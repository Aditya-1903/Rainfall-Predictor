{
 "cells": [
  {
   "cell_type": "markdown",
   "metadata": {},
   "source": [
    "<span class=\"xjKiLb\" jsslot=\"\"><span class=\"Ce1Y1c\"\n",
    "style=\"top: -12px\"><img src=\"attachment:vertopal_72b346692ad547ada5d969534bec3c8e/d6cf41f43dbcd9813fad5c4894bc78379dc038e8.svg\" class=\"V4YR2c\" /></span></span>\n",
    "\n",
    "<span class=\"A37UZe qgcB3c iHd5yb\" jsslot=\"\"></span>\n",
    "\n",
    "<span class=\"xjKiLb\" jsslot=\"\"><span class=\"Ce1Y1c\"\n",
    "style=\"top: -12px\"><img src=\"attachment:vertopal_72b346692ad547ada5d969534bec3c8e/77ce3eec5907f7fce79e4b29d66b3e865ed90ae1.svg\" class=\"vu8Pwe\" /></span></span>\n",
    "\n",
    "<span class=\"xjKiLb\" jsslot=\"\"><span class=\"Ce1Y1c\"\n",
    "style=\"top: -12px\"><img src=\"attachment:vertopal_72b346692ad547ada5d969534bec3c8e/d6cf41f43dbcd9813fad5c4894bc78379dc038e8.svg\" class=\"V4YR2c\" /></span></span>\n",
    "\n",
    "Search this site\n",
    "\n",
    "<span class=\"A37UZe sxyYjd MQL3Ob\" jsslot=\"\"></span>\n",
    "\n",
    "<span class=\"xjKiLb\" jsslot=\"\"><span class=\"Ce1Y1c\"\n",
    "style=\"top: -12px\"><img src=\"attachment:vertopal_72b346692ad547ada5d969534bec3c8e/8e9210448582d3ae68a1a0375510d93b82f494a4.svg\" class=\"fAUEUd\" /></span></span>\n",
    "\n",
    "<span class=\"VfPpkd-vQzf8d\" jsname=\"V67aGc\">Skip to main content</span>\n",
    "\n",
    "<span class=\"VfPpkd-vQzf8d\" jsname=\"V67aGc\">Skip to navigation</span>\n",
    "\n",
    "<img src=\"attachment:vertopal_72b346692ad547ada5d969534bec3c8e/1a6992b004936286d59380d3267a8fc22ecbae05.svg\" class=\"wFCWne\" />\n",
    "\n",
    "<a href=\"https://sites.google.com/psgtech.ac.in/final-package/home?authuser=0\" class=\"Zjiec oNsfjf\"><span>Final Package</span></a>\n",
    "\n",
    "-   <a href=\"https://sites.google.com/psgtech.ac.in/final-package/home?authuser=0\" class=\"aJHbb dk90Ob hDrhEe HlqNPb\">Home</a>\n",
    "\n",
    "-   <a href=\"https://sites.google.com/psgtech.ac.in/final-package/multiple-regression?authuser=0\" class=\"aJHbb dk90Ob hDrhEe HlqNPb\">Multiple Regression</a>\n",
    "\n",
    "-   <a href=\"https://sites.google.com/psgtech.ac.in/final-package/logistic-regression?authuser=0\" class=\"aJHbb dk90Ob hDrhEe HlqNPb\">Logistic Regression</a>\n",
    "\n",
    "<a href=\"https://sites.google.com/psgtech.ac.in/final-package/home?authuser=0\" class=\"GAuSPc\"><span class=\"QTKDff\">Final Package</span></a>\n",
    "\n",
    "-   <a href=\"https://sites.google.com/psgtech.ac.in/final-package/home?authuser=0\" class=\"aJHbb dk90Ob jgXgSe HlqNPb\">Home</a>\n",
    "\n",
    "-   <a href=\"https://sites.google.com/psgtech.ac.in/final-package/multiple-regression?authuser=0\" class=\"aJHbb dk90Ob jgXgSe HlqNPb\">Multiple Regression</a>\n",
    "\n",
    "-   <a href=\"https://sites.google.com/psgtech.ac.in/final-package/logistic-regression?authuser=0\" class=\"aJHbb dk90Ob jgXgSe HlqNPb\">Logistic Regression</a>\n",
    "\n",
    "-   <span class=\"aJHbb dk90Ob jgXgSe HlqNPb\">More</span>\n",
    "    <img src=\"attachment:vertopal_72b346692ad547ada5d969534bec3c8e/50dc3f484cc2632ab26e3844aaa716f15c6baee6.svg\" class=\"dvmRw\" />\n",
    "\n",
    "    -   <a href=\"https://sites.google.com/psgtech.ac.in/final-package/home?authuser=0\" class=\"aJHbb hDrhEe HlqNPb\">Home</a>\n",
    "\n",
    "    -   <a href=\"https://sites.google.com/psgtech.ac.in/final-package/multiple-regression?authuser=0\" class=\"aJHbb hDrhEe HlqNPb\">Multiple Regression</a>\n",
    "\n",
    "    -   <a href=\"https://sites.google.com/psgtech.ac.in/final-package/logistic-regression?authuser=0\" class=\"aJHbb hDrhEe HlqNPb\">Logistic Regression</a>\n",
    "\n",
    "<span class=\"xjKiLb\" jsslot=\"\"><span class=\"Ce1Y1c\"\n",
    "style=\"top: -12px\"><img src=\"attachment:vertopal_72b346692ad547ada5d969534bec3c8e/f9070dbff3461619d98675b1f287fa1d90c2ad44.svg\" class=\"vu8Pwe iWs3gf YSH9J\" /></span></span>\n",
    "\n",
    "<span class=\"small\"><span\n",
    "style=\"font-family: 'Roboto'; font-weight: 900;\">Team - </span></span>\n",
    "\n",
    "-   <span class=\"small\"><span\n",
    "    style=\"font-family: 'Roboto'; font-weight: normal;\">Sudharsan\n",
    "    Aravind V (20PD33)</span></span>\n",
    "-   <span class=\"small\"><span\n",
    "    style=\"font-family: 'Roboto'; font-weight: normal;\">Sriram S\n",
    "    (20PD32)</span></span>\n",
    "-   <span class=\"small\"><span\n",
    "    style=\"font-family: 'Roboto'; font-weight: normal;\">Karthic\n",
    "    Sreenivas A (20PD12)</span></span>\n",
    "-   <span class=\"small\"><span\n",
    "    style=\"font-family: 'Roboto'; font-weight: normal;\">Ashwin KR\n",
    "    (20PD06)</span></span>\n",
    "-   <span class=\"small\"><span\n",
    "    style=\"font-family: 'Roboto'; font-weight: normal;\">Santhosh V\n",
    "    (20PD25)</span></span>\n",
    "-   <span class=\"small\"><span\n",
    "    style=\"font-family: 'Roboto'; font-weight: normal;\">Aditya\n",
    "    Ramanathan N (20PD02)</span></span>\n",
    "\n",
    "<span class=\"MhXXcc oJeWuf\" jsslot=\"\"><span\n",
    "class=\"Lw7GHd snByac\"><img src=\"attachment:vertopal_72b346692ad547ada5d969534bec3c8e/4a0d66def4f06722c8c7f3e7fa94218b37cf8a22.svg\" class=\"NMm5M\" /></span></span>\n",
    "\n",
    "<span class=\"xjKiLb\" jsslot=\"\"><span class=\"Ce1Y1c\"\n",
    "style=\"top: -12px\"><img src=\"attachment:vertopal_72b346692ad547ada5d969534bec3c8e/4a0d66def4f06722c8c7f3e7fa94218b37cf8a22.svg\" class=\"NMm5M\" /></span></span>\n",
    "\n",
    "Page updated <span class=\"dji00c\" jsname=\"CFIm1b\"\n",
    "jsaction=\"AHmuwe:eGiyHb; mouseover:eGiyHb;\" tabindex=\"0\"\n",
    "role=\"contentinfo\"></span>\n",
    "\n",
    "Report abuse"
   ],
   "attachments": {
    "vertopal_72b346692ad547ada5d969534bec3c8e/4a0d66def4f06722c8c7f3e7fa94218b37cf8a22.svg": {
     "image/svg+xml": "PHN2ZyB3aWR0aD0iMjQiIGhlaWdodD0iMjQiIHZpZXdib3g9IjAgMCAyNCAyNCIgZm9jdXNhYmxl\nPSJmYWxzZSIgY2xhc3M9IiBOTW01TSI+PHBhdGggZD0iTTExIDE3aDJ2LTZoLTJ2NnptMS0xNUM2\nLjQ4IDIgMiA2LjQ4IDIgMTJzNC40OCAxMCAxMCAxMCAxMC00LjQ4IDEwLTEwUzE3LjUyIDIgMTIg\nMnptMCAxOGMtNC40MSAwLTgtMy41OS04LThzMy41OS04IDgtOCA4IDMuNTkgOCA4LTMuNTkgOC04\nIDh6TTExIDloMlY3aC0ydjJ6Ij48L3BhdGg+PC9zdmc+\n"
    },
    "vertopal_72b346692ad547ada5d969534bec3c8e/77ce3eec5907f7fce79e4b29d66b3e865ed90ae1.svg": {
     "image/svg+xml": "PHN2ZyBjbGFzcz0idnU4UHdlIiB2aWV3Ym94PSIwIDAgMjQgMjQiIGZvY3VzYWJsZT0iZmFsc2Ui\nPjxwYXRoIGQ9Ik0xNS41IDE0aC0uNzlsLS4yOC0uMjdDMTUuNDEgMTIuNTkgMTYgMTEuMTEgMTYg\nOS41IDE2IDUuOTEgMTMuMDkgMyA5LjUgM1MzIDUuOTEgMyA5LjUgNS45MSAxNiA5LjUgMTZjMS42\nMSAwIDMuMDktLjU5IDQuMjMtMS41N2wuMjcuMjh2Ljc5bDUgNC45OUwyMC40OSAxOWwtNC45OS01\nem0tNiAwQzcuMDEgMTQgNSAxMS45OSA1IDkuNVM3LjAxIDUgOS41IDUgMTQgNy4wMSAxNCA5LjUg\nMTEuOTkgMTQgOS41IDE0eiI+PC9wYXRoPjxwYXRoIGQ9Ik0wIDBoMjR2MjRIMHoiIGZpbGw9Im5v\nbmUiPjwvcGF0aD48L3N2Zz4=\n"
    },
    "vertopal_72b346692ad547ada5d969534bec3c8e/1a6992b004936286d59380d3267a8fc22ecbae05.svg": {
     "image/svg+xml": "PHN2ZyBjbGFzcz0id0ZDV25lIiB2aWV3Ym94PSIwIDAgMjQgMjQiIHN0cm9rZT0iY3VycmVudENv\nbG9yIiBqc25hbWU9IkIxbjl1YiIgZm9jdXNhYmxlPSJmYWxzZSI+PGcgdHJhbnNmb3JtPSJ0cmFu\nc2xhdGUoMTIsMTIpIj48cGF0aCBjbGFzcz0iaGxKSDAiIGQ9Ik0tOSAtNSBMOSAtNSIgZmlsbD0i\nbm9uZSIgc3Ryb2tlLXdpZHRoPSIyIj48L3BhdGg+PHBhdGggY2xhc3M9IkhCdTZOIiBkPSJNLTkg\nMCBMOSAwIiBmaWxsPSJub25lIiBzdHJva2Utd2lkdGg9IjIiPjwvcGF0aD48cGF0aCBjbGFzcz0i\nY0xBR1FlIiBkPSJNLTkgNSBMOSA1IiBmaWxsPSJub25lIiBzdHJva2Utd2lkdGg9IjIiPjwvcGF0\naD48L2c+PC9zdmc+\n"
    },
    "vertopal_72b346692ad547ada5d969534bec3c8e/d6cf41f43dbcd9813fad5c4894bc78379dc038e8.svg": {
     "image/svg+xml": "PHN2ZyBjbGFzcz0iVjRZUjJjIiB2aWV3Ym94PSIwIDAgMjQgMjQiIGZvY3VzYWJsZT0iZmFsc2Ui\nPjxwYXRoIGQ9Ik0wIDBoMjR2MjRIMHoiIGZpbGw9Im5vbmUiPjwvcGF0aD48cGF0aCBkPSJNMjAg\nMTFINy44M2w1LjU5LTUuNTlMMTIgNGwtOCA4IDggOCAxLjQxLTEuNDFMNy44MyAxM0gyMHYtMnoi\nPjwvcGF0aD48L3N2Zz4=\n"
    },
    "vertopal_72b346692ad547ada5d969534bec3c8e/8e9210448582d3ae68a1a0375510d93b82f494a4.svg": {
     "image/svg+xml": "PHN2ZyBjbGFzcz0iZkFVRVVkIiB2aWV3Ym94PSIwIDAgMjQgMjQiIGZvY3VzYWJsZT0iZmFsc2Ui\nPjxwYXRoIGQ9Ik0xOSA2LjQxTDE3LjU5IDUgMTIgMTAuNTkgNi40MSA1IDUgNi40MSAxMC41OSAx\nMiA1IDE3LjU5IDYuNDEgMTkgMTIgMTMuNDEgMTcuNTkgMTkgMTkgMTcuNTkgMTMuNDEgMTJ6Ij48\nL3BhdGg+PHBhdGggZD0iTTAgMGgyNHYyNEgweiIgZmlsbD0ibm9uZSI+PC9wYXRoPjwvc3ZnPg==\n"
    },
    "vertopal_72b346692ad547ada5d969534bec3c8e/50dc3f484cc2632ab26e3844aaa716f15c6baee6.svg": {
     "image/svg+xml": "PHN2ZyBjbGFzcz0iZHZtUnciIHZpZXdib3g9IjAgMCAyNCAyNCIgc3Ryb2tlPSJjdXJyZW50Q29s\nb3IiIGpzbmFtZT0iSElIMlYiIGZvY3VzYWJsZT0iZmFsc2UiPjxnIHRyYW5zZm9ybT0idHJhbnNs\nYXRlKDkuNywxMikgcm90YXRlKDQ1KSI+PHBhdGggY2xhc3M9Iks0QjhZIiBkPSJNLTQuMiAwIEw0\nLjIgMCIgc3Ryb2tlLXdpZHRoPSIyIj48L3BhdGg+PC9nPjxnIHRyYW5zZm9ybT0idHJhbnNsYXRl\nKDE0LjMsMTIpIHJvdGF0ZSgtNDUpIj48cGF0aCBjbGFzcz0iTXJZTXgiIGQ9Ik0tNC4yIDAgTDQu\nMiAwIiBzdHJva2Utd2lkdGg9IjIiPjwvcGF0aD48L2c+PC9zdmc+\n"
    },
    "vertopal_72b346692ad547ada5d969534bec3c8e/f9070dbff3461619d98675b1f287fa1d90c2ad44.svg": {
     "image/svg+xml": "PHN2ZyBjbGFzcz0idnU4UHdlIGlXczNnZiBZU0g5SiIgdmlld2JveD0iMCAwIDI0IDI0IiBmb2N1\nc2FibGU9ImZhbHNlIj48cGF0aCBkPSJNMTUuNSAxNGgtLjc5bC0uMjgtLjI3QzE1LjQxIDEyLjU5\nIDE2IDExLjExIDE2IDkuNSAxNiA1LjkxIDEzLjA5IDMgOS41IDNTMyA1LjkxIDMgOS41IDUuOTEg\nMTYgOS41IDE2YzEuNjEgMCAzLjA5LS41OSA0LjIzLTEuNTdsLjI3LjI4di43OWw1IDQuOTlMMjAu\nNDkgMTlsLTQuOTktNXptLTYgMEM3LjAxIDE0IDUgMTEuOTkgNSA5LjVTNy4wMSA1IDkuNSA1IDE0\nIDcuMDEgMTQgOS41IDExLjk5IDE0IDkuNSAxNHoiPjwvcGF0aD48cGF0aCBkPSJNMCAwaDI0djI0\nSDB6IiBmaWxsPSJub25lIj48L3BhdGg+PC9zdmc+\n"
    }
   }
  }
 ],
 "nbformat": 4,
 "nbformat_minor": 5,
 "metadata": {}
}
